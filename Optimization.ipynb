{
  "nbformat": 4,
  "nbformat_minor": 0,
  "metadata": {
    "colab": {
      "provenance": [],
      "authorship_tag": "ABX9TyP3LKhgfwEFlgZsnS8GcXOp",
      "include_colab_link": true
    },
    "kernelspec": {
      "name": "python3",
      "display_name": "Python 3"
    },
    "language_info": {
      "name": "python"
    }
  },
  "cells": [
    {
      "cell_type": "markdown",
      "metadata": {
        "id": "view-in-github",
        "colab_type": "text"
      },
      "source": [
        "<a href=\"https://colab.research.google.com/github/megan0422/DABPFinalProject/blob/main/Optimization.ipynb\" target=\"_parent\"><img src=\"https://colab.research.google.com/assets/colab-badge.svg\" alt=\"Open In Colab\"/></a>"
      ]
    },
    {
      "cell_type": "code",
      "execution_count": null,
      "metadata": {
        "id": "WQ6gqoxYWoDP"
      },
      "outputs": [],
      "source": [
        "import numpy as np \n",
        "!pip install gurobipy\n",
        "import gurobipy as gp\n",
        "from gurobipy import *\n",
        "import pandas as pd # data processing, CSV file I/O (e.g. pd.read_csv)\n",
        "import matplotlib.pyplot as plt\n",
        "from sklearn.model_selection import train_test_split\n",
        "from sklearn.linear_model import LogisticRegression\n",
        "from sklearn.metrics import classification_report\n",
        "from sklearn.metrics import confusion_matrix\n",
        "from sklearn.metrics import accuracy_score\n",
        "from random import randrange\n",
        "import seaborn as sns\n",
        "import warnings\n",
        "import math\n",
        "warnings.filterwarnings(\"ignore\")"
      ]
    },
    {
      "cell_type": "code",
      "source": [
        "# NBI data\n",
        "PA22 = pd.read_csv(\"PA22.csv\")\n",
        "# Extract data on allegheny county from the whole dataset\n",
        "PA22_allegheny  = PA22[PA22[\"COUNTY_CODE_003\"] == 3]\n",
        "PA22_allegheny  = PA22_allegheny[PA22_allegheny[\"MAINTENANCE_021\"] == 2]\n",
        "PA22_allegheny"
      ],
      "metadata": {
        "id": "afwFTnkoWuIu"
      },
      "execution_count": null,
      "outputs": []
    },
    {
      "cell_type": "code",
      "source": [
        "PA22_allegheny = PA22_allegheny[[\"STRUCTURE_NUMBER_008\",\"ADT_029\",\"STRUCTURE_LEN_MT_049\",\"TOTAL_IMP_COST_096\",\"HIGHWAY_SYSTEM_104\",\"PERCENT_ADT_TRUCK_109\"]]\n",
        "PA22_allegheny.dropna()\n",
        "PA22_allegheny_cost_nonzero = PA22_allegheny[PA22_allegheny[\"TOTAL_IMP_COST_096\"] != 0]\n",
        "PA22_allegheny_cost_nonzero.describe()"
      ],
      "metadata": {
        "id": "2MFOduZrWwKW"
      },
      "execution_count": null,
      "outputs": []
    },
    {
      "cell_type": "code",
      "source": [
        "\n",
        "i = len(PA22_allegheny_cost_nonzero)\n",
        "bridge = range(i)\n",
        "\n",
        "# Step 0. Set up the model\n",
        "model = Model()\n",
        "\n",
        "# Step 1. Set up the decision variables\n",
        "x = model.addVars(bridge, vtype=GRB.BINARY)\n",
        "\n",
        "addtr = (PA22_allegheny_cost_nonzero[\"PERCENT_ADT_TRUCK_109\"].to_numpy())/100\n",
        "adt = PA22_allegheny_cost_nonzero[\"ADT_029\"].to_numpy()\n",
        "bl = PA22_allegheny_cost_nonzero[\"STRUCTURE_LEN_MT_049\"].to_numpy()\n",
        "hwy = PA22_allegheny_cost_nonzero[\"HIGHWAY_SYSTEM_104\"].to_numpy()\n",
        "\n",
        "#Step 2. Set up the objective function\n",
        "T = addtr*adt/24*32*1 + addtr*adt/24*16.2*1.67\n",
        "V = adt*bl*hwy*50*(3.02+0.94) + adt*bl*(1-hwy)*25*(3.02+0.45)\n",
        "\n",
        "model.setObjective (sum((T[i]+V[i])*x[i] for i in bridge))\n",
        "model.modelSense = GRB.MAXIMIZE\n",
        "\n",
        "#Step 3. Set up the constraints\n",
        "#budget constraint\n",
        "C = PA22_allegheny_cost_nonzero[\"TOTAL_IMP_COST_096\"].to_numpy()*1000\n",
        "B = 27700000\n",
        "\n",
        "model.addConstr(sum(C[i]*x[i] for i in bridge) <= B) \n",
        "model.optimize()"
      ],
      "metadata": {
        "id": "TIbGvDNOWzPB"
      },
      "execution_count": null,
      "outputs": []
    },
    {
      "cell_type": "code",
      "source": [
        "decision_variable = []\n",
        "for v in model.getVars():\n",
        "    decision_variable.append(v.x)\n",
        "print(\"Total cost is\", np.nansum(np.array(decision_variable)*C))"
      ],
      "metadata": {
        "id": "o2fdNGwsW1Ib"
      },
      "execution_count": null,
      "outputs": []
    },
    {
      "cell_type": "code",
      "source": [
        "structure_number_with_zero = np.array(decision_variable)*PA22_allegheny_cost_nonzero[\"STRUCTURE_NUMBER_008\"].to_numpy().astype(int)\n",
        "structure_number = structure_number_with_zero[structure_number_with_zero != 0]\n",
        "bridge_number = len(structure_number)\n",
        "print(bridge_number, \"bridges should be repair/replacement\")\n",
        "print(\"The STRUCTURE NUMBER of the bridges to repair/replace are\",structure_number)"
      ],
      "metadata": {
        "id": "j9z52LblW108"
      },
      "execution_count": null,
      "outputs": []
    }
  ]
}